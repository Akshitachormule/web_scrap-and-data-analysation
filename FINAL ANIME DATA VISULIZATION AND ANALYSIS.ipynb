{
 "cells": [
  {
   "cell_type": "code",
   "execution_count": 1,
   "metadata": {},
   "outputs": [],
   "source": [
    "import pandas as pd \n",
    "import numpy as np \n",
    "import matplotlib.pyplot as plt \n",
    "import seaborn as sns "
   ]
  },
  {
   "cell_type": "markdown",
   "metadata": {},
   "source": [
    "### ***IMPORTING CSV FILE & GETTING INFORMATION***"
   ]
  },
  {
   "cell_type": "code",
   "execution_count": 2,
   "metadata": {},
   "outputs": [],
   "source": [
    "df = pd.read_csv('all timebest anime - IMDb.csv', engine='python')"
   ]
  },
  {
   "cell_type": "code",
   "execution_count": 3,
   "metadata": {},
   "outputs": [
    {
     "data": {
      "text/html": [
       "<div>\n",
       "<style scoped>\n",
       "    .dataframe tbody tr th:only-of-type {\n",
       "        vertical-align: middle;\n",
       "    }\n",
       "\n",
       "    .dataframe tbody tr th {\n",
       "        vertical-align: top;\n",
       "    }\n",
       "\n",
       "    .dataframe thead th {\n",
       "        text-align: right;\n",
       "    }\n",
       "</style>\n",
       "<table border=\"1\" class=\"dataframe\">\n",
       "  <thead>\n",
       "    <tr style=\"text-align: right;\">\n",
       "      <th></th>\n",
       "      <th>Unnamed: 0</th>\n",
       "      <th>title</th>\n",
       "      <th>year</th>\n",
       "      <th>rating</th>\n",
       "      <th>certificate</th>\n",
       "      <th>votes</th>\n",
       "      <th>runtime</th>\n",
       "      <th>gener</th>\n",
       "      <th>voice_artist1</th>\n",
       "      <th>voice_artist2</th>\n",
       "      <th>voice_artist3</th>\n",
       "      <th>voice_artist4</th>\n",
       "    </tr>\n",
       "  </thead>\n",
       "  <tbody>\n",
       "    <tr>\n",
       "      <th>0</th>\n",
       "      <td>0</td>\n",
       "      <td>Avatar: The Last Airbender</td>\n",
       "      <td>2005�2008</td>\n",
       "      <td>9.2</td>\n",
       "      <td>U</td>\n",
       "      <td>2,53,806</td>\n",
       "      <td>23</td>\n",
       "      <td>Animation, Action, Adventure</td>\n",
       "      <td>Dee Bradley Baker</td>\n",
       "      <td>Zach Tyler</td>\n",
       "      <td>Mae Whitman</td>\n",
       "      <td>Jack De Sena</td>\n",
       "    </tr>\n",
       "    <tr>\n",
       "      <th>1</th>\n",
       "      <td>1</td>\n",
       "      <td>Hagane no renkinjutsushi</td>\n",
       "      <td>2009�2012</td>\n",
       "      <td>9.1</td>\n",
       "      <td>18+</td>\n",
       "      <td>1,26,138</td>\n",
       "      <td>24</td>\n",
       "      <td>Animation, Action, Adventure</td>\n",
       "      <td>Kent Williams</td>\n",
       "      <td>Iemasa Kayumi</td>\n",
       "      <td>Vic Mignogna</td>\n",
       "      <td>Muriel Hofmann</td>\n",
       "    </tr>\n",
       "    <tr>\n",
       "      <th>2</th>\n",
       "      <td>2</td>\n",
       "      <td>Ginga eiy� densetsu</td>\n",
       "      <td>1988�1997</td>\n",
       "      <td>9.1</td>\n",
       "      <td>NaN</td>\n",
       "      <td>2,352</td>\n",
       "      <td>25</td>\n",
       "      <td>Animation, Drama, Sci-Fi</td>\n",
       "      <td>Y�saku Yara</td>\n",
       "      <td>Ry� Horikawa</td>\n",
       "      <td>Katsuji Mori</td>\n",
       "      <td>Nozomu Sasaki</td>\n",
       "    </tr>\n",
       "    <tr>\n",
       "      <th>3</th>\n",
       "      <td>3</td>\n",
       "      <td>Death Note: Desu n�to</td>\n",
       "      <td>2006�2007</td>\n",
       "      <td>9.0</td>\n",
       "      <td>16+</td>\n",
       "      <td>2,46,799</td>\n",
       "      <td>24</td>\n",
       "      <td>Animation, Crime, Drama</td>\n",
       "      <td>Mamoru Miyano</td>\n",
       "      <td>Brad Swaile</td>\n",
       "      <td>Vincent Tong</td>\n",
       "      <td>Ry� Nait�</td>\n",
       "    </tr>\n",
       "    <tr>\n",
       "      <th>4</th>\n",
       "      <td>4</td>\n",
       "      <td>Mushishi: Zoku Shou</td>\n",
       "      <td>2014�</td>\n",
       "      <td>8.9</td>\n",
       "      <td>NaN</td>\n",
       "      <td>2,310</td>\n",
       "      <td>24</td>\n",
       "      <td>Animation, Drama, Fantasy</td>\n",
       "      <td>Mika Doi</td>\n",
       "      <td>Y�to Nakano</td>\n",
       "      <td>Daisuke Kishio</td>\n",
       "      <td>Akira Matsushita</td>\n",
       "    </tr>\n",
       "  </tbody>\n",
       "</table>\n",
       "</div>"
      ],
      "text/plain": [
       "   Unnamed: 0                       title       year  rating certificate  \\\n",
       "0           0  Avatar: The Last Airbender  2005�2008     9.2           U   \n",
       "1           1    Hagane no renkinjutsushi  2009�2012     9.1         18+   \n",
       "2           2         Ginga eiy� densetsu  1988�1997     9.1         NaN   \n",
       "3           3       Death Note: Desu n�to  2006�2007     9.0         16+   \n",
       "4           4         Mushishi: Zoku Shou  2014�         8.9         NaN   \n",
       "\n",
       "      votes  runtime                                     gener  \\\n",
       "0  2,53,806       23  Animation, Action, Adventure               \n",
       "1  1,26,138       24  Animation, Action, Adventure               \n",
       "2     2,352       25      Animation, Drama, Sci-Fi               \n",
       "3  2,46,799       24       Animation, Crime, Drama               \n",
       "4     2,310       24     Animation, Drama, Fantasy               \n",
       "\n",
       "       voice_artist1  voice_artist2   voice_artist3     voice_artist4  \n",
       "0  Dee Bradley Baker     Zach Tyler     Mae Whitman      Jack De Sena  \n",
       "1      Kent Williams  Iemasa Kayumi    Vic Mignogna    Muriel Hofmann  \n",
       "2        Y�saku Yara   Ry� Horikawa    Katsuji Mori     Nozomu Sasaki  \n",
       "3      Mamoru Miyano    Brad Swaile    Vincent Tong         Ry� Nait�  \n",
       "4           Mika Doi    Y�to Nakano  Daisuke Kishio  Akira Matsushita  "
      ]
     },
     "execution_count": 3,
     "metadata": {},
     "output_type": "execute_result"
    }
   ],
   "source": [
    "df.head()"
   ]
  },
  {
   "cell_type": "code",
   "execution_count": 4,
   "metadata": {},
   "outputs": [
    {
     "name": "stdout",
     "output_type": "stream",
     "text": [
      "<class 'pandas.core.frame.DataFrame'>\n",
      "RangeIndex: 408 entries, 0 to 407\n",
      "Data columns (total 12 columns):\n",
      " #   Column         Non-Null Count  Dtype  \n",
      "---  ------         --------------  -----  \n",
      " 0   Unnamed: 0     408 non-null    int64  \n",
      " 1   title          408 non-null    object \n",
      " 2   year           408 non-null    object \n",
      " 3   rating         408 non-null    float64\n",
      " 4   certificate    89 non-null     object \n",
      " 5   votes          408 non-null    object \n",
      " 6   runtime        408 non-null    int64  \n",
      " 7   gener          408 non-null    object \n",
      " 8   voice_artist1  408 non-null    object \n",
      " 9   voice_artist2  407 non-null    object \n",
      " 10  voice_artist3  406 non-null    object \n",
      " 11  voice_artist4  405 non-null    object \n",
      "dtypes: float64(1), int64(2), object(9)\n",
      "memory usage: 38.4+ KB\n"
     ]
    }
   ],
   "source": [
    "df.info()"
   ]
  },
  {
   "cell_type": "markdown",
   "metadata": {},
   "source": [
    "# ***Rating***"
   ]
  },
  {
   "cell_type": "markdown",
   "metadata": {},
   "source": [
    "### ***GETTING TOP 5 RATED ANIME & BOTTOM 5 RATED ANIME***"
   ]
  },
  {
   "cell_type": "code",
   "execution_count": 5,
   "metadata": {},
   "outputs": [
    {
     "data": {
      "text/html": [
       "<div>\n",
       "<style scoped>\n",
       "    .dataframe tbody tr th:only-of-type {\n",
       "        vertical-align: middle;\n",
       "    }\n",
       "\n",
       "    .dataframe tbody tr th {\n",
       "        vertical-align: top;\n",
       "    }\n",
       "\n",
       "    .dataframe thead th {\n",
       "        text-align: right;\n",
       "    }\n",
       "</style>\n",
       "<table border=\"1\" class=\"dataframe\">\n",
       "  <thead>\n",
       "    <tr style=\"text-align: right;\">\n",
       "      <th></th>\n",
       "      <th>Unnamed: 0</th>\n",
       "      <th>title</th>\n",
       "      <th>year</th>\n",
       "      <th>rating</th>\n",
       "      <th>certificate</th>\n",
       "      <th>votes</th>\n",
       "      <th>runtime</th>\n",
       "      <th>gener</th>\n",
       "      <th>voice_artist1</th>\n",
       "      <th>voice_artist2</th>\n",
       "      <th>voice_artist3</th>\n",
       "      <th>voice_artist4</th>\n",
       "    </tr>\n",
       "  </thead>\n",
       "  <tbody>\n",
       "    <tr>\n",
       "      <th>1</th>\n",
       "      <td>0</td>\n",
       "      <td>Avatar: The Last Airbender</td>\n",
       "      <td>2005�2008</td>\n",
       "      <td>9.2</td>\n",
       "      <td>U</td>\n",
       "      <td>2,53,806</td>\n",
       "      <td>23</td>\n",
       "      <td>Animation, Action, Adventure</td>\n",
       "      <td>Dee Bradley Baker</td>\n",
       "      <td>Zach Tyler</td>\n",
       "      <td>Mae Whitman</td>\n",
       "      <td>Jack De Sena</td>\n",
       "    </tr>\n",
       "    <tr>\n",
       "      <th>2</th>\n",
       "      <td>2</td>\n",
       "      <td>Ginga eiy� densetsu</td>\n",
       "      <td>1988�1997</td>\n",
       "      <td>9.1</td>\n",
       "      <td>NaN</td>\n",
       "      <td>2,352</td>\n",
       "      <td>25</td>\n",
       "      <td>Animation, Drama, Sci-Fi</td>\n",
       "      <td>Y�saku Yara</td>\n",
       "      <td>Ry� Horikawa</td>\n",
       "      <td>Katsuji Mori</td>\n",
       "      <td>Nozomu Sasaki</td>\n",
       "    </tr>\n",
       "    <tr>\n",
       "      <th>3</th>\n",
       "      <td>1</td>\n",
       "      <td>Hagane no renkinjutsushi</td>\n",
       "      <td>2009�2012</td>\n",
       "      <td>9.1</td>\n",
       "      <td>18+</td>\n",
       "      <td>1,26,138</td>\n",
       "      <td>24</td>\n",
       "      <td>Animation, Action, Adventure</td>\n",
       "      <td>Kent Williams</td>\n",
       "      <td>Iemasa Kayumi</td>\n",
       "      <td>Vic Mignogna</td>\n",
       "      <td>Muriel Hofmann</td>\n",
       "    </tr>\n",
       "    <tr>\n",
       "      <th>4</th>\n",
       "      <td>3</td>\n",
       "      <td>Death Note: Desu n�to</td>\n",
       "      <td>2006�2007</td>\n",
       "      <td>9.0</td>\n",
       "      <td>16+</td>\n",
       "      <td>2,46,799</td>\n",
       "      <td>24</td>\n",
       "      <td>Animation, Crime, Drama</td>\n",
       "      <td>Mamoru Miyano</td>\n",
       "      <td>Brad Swaile</td>\n",
       "      <td>Vincent Tong</td>\n",
       "      <td>Ry� Nait�</td>\n",
       "    </tr>\n",
       "    <tr>\n",
       "      <th>5</th>\n",
       "      <td>4</td>\n",
       "      <td>Mushishi: Zoku Shou</td>\n",
       "      <td>2014�</td>\n",
       "      <td>8.9</td>\n",
       "      <td>NaN</td>\n",
       "      <td>2,310</td>\n",
       "      <td>24</td>\n",
       "      <td>Animation, Drama, Fantasy</td>\n",
       "      <td>Mika Doi</td>\n",
       "      <td>Y�to Nakano</td>\n",
       "      <td>Daisuke Kishio</td>\n",
       "      <td>Akira Matsushita</td>\n",
       "    </tr>\n",
       "  </tbody>\n",
       "</table>\n",
       "</div>"
      ],
      "text/plain": [
       "   Unnamed: 0                       title       year  rating certificate  \\\n",
       "1           0  Avatar: The Last Airbender  2005�2008     9.2           U   \n",
       "2           2         Ginga eiy� densetsu  1988�1997     9.1         NaN   \n",
       "3           1    Hagane no renkinjutsushi  2009�2012     9.1         18+   \n",
       "4           3       Death Note: Desu n�to  2006�2007     9.0         16+   \n",
       "5           4         Mushishi: Zoku Shou  2014�         8.9         NaN   \n",
       "\n",
       "      votes  runtime                                     gener  \\\n",
       "1  2,53,806       23  Animation, Action, Adventure               \n",
       "2     2,352       25      Animation, Drama, Sci-Fi               \n",
       "3  1,26,138       24  Animation, Action, Adventure               \n",
       "4  2,46,799       24       Animation, Crime, Drama               \n",
       "5     2,310       24     Animation, Drama, Fantasy               \n",
       "\n",
       "       voice_artist1  voice_artist2   voice_artist3     voice_artist4  \n",
       "1  Dee Bradley Baker     Zach Tyler     Mae Whitman      Jack De Sena  \n",
       "2        Y�saku Yara   Ry� Horikawa    Katsuji Mori     Nozomu Sasaki  \n",
       "3      Kent Williams  Iemasa Kayumi    Vic Mignogna    Muriel Hofmann  \n",
       "4      Mamoru Miyano    Brad Swaile    Vincent Tong         Ry� Nait�  \n",
       "5           Mika Doi    Y�to Nakano  Daisuke Kishio  Akira Matsushita  "
      ]
     },
     "execution_count": 5,
     "metadata": {},
     "output_type": "execute_result"
    }
   ],
   "source": [
    "df1=df.sort_values('rating',ascending=[False]).head(5)\n",
    "df1.index= np.arange(1,6)\n",
    "df1"
   ]
  },
  {
   "cell_type": "code",
   "execution_count": 6,
   "metadata": {},
   "outputs": [
    {
     "data": {
      "text/html": [
       "<div>\n",
       "<style scoped>\n",
       "    .dataframe tbody tr th:only-of-type {\n",
       "        vertical-align: middle;\n",
       "    }\n",
       "\n",
       "    .dataframe tbody tr th {\n",
       "        vertical-align: top;\n",
       "    }\n",
       "\n",
       "    .dataframe thead th {\n",
       "        text-align: right;\n",
       "    }\n",
       "</style>\n",
       "<table border=\"1\" class=\"dataframe\">\n",
       "  <thead>\n",
       "    <tr style=\"text-align: right;\">\n",
       "      <th></th>\n",
       "      <th>Unnamed: 0</th>\n",
       "      <th>title</th>\n",
       "      <th>year</th>\n",
       "      <th>rating</th>\n",
       "      <th>certificate</th>\n",
       "      <th>votes</th>\n",
       "      <th>runtime</th>\n",
       "      <th>gener</th>\n",
       "      <th>voice_artist1</th>\n",
       "      <th>voice_artist2</th>\n",
       "      <th>voice_artist3</th>\n",
       "      <th>voice_artist4</th>\n",
       "    </tr>\n",
       "  </thead>\n",
       "  <tbody>\n",
       "    <tr>\n",
       "      <th>1</th>\n",
       "      <td>403</td>\n",
       "      <td>Metaru faito Beibureedo</td>\n",
       "      <td>2009�2013</td>\n",
       "      <td>5.9</td>\n",
       "      <td>NaN</td>\n",
       "      <td>1,159</td>\n",
       "      <td>30</td>\n",
       "      <td>Animation, Action, Family</td>\n",
       "      <td>Jason Deline</td>\n",
       "      <td>Carter Hayden</td>\n",
       "      <td>Andrew Jackson</td>\n",
       "      <td>Scott Gorman</td>\n",
       "    </tr>\n",
       "    <tr>\n",
       "      <th>2</th>\n",
       "      <td>404</td>\n",
       "      <td>Ben 10: Omniverse</td>\n",
       "      <td>2012�2014</td>\n",
       "      <td>5.8</td>\n",
       "      <td>7</td>\n",
       "      <td>3,410</td>\n",
       "      <td>22</td>\n",
       "      <td>Animation, Action, Adventure</td>\n",
       "      <td>Yuri Lowenthal</td>\n",
       "      <td>Bumper Robinson</td>\n",
       "      <td>Eric Bauza</td>\n",
       "      <td>Paul Eiding</td>\n",
       "    </tr>\n",
       "    <tr>\n",
       "      <th>3</th>\n",
       "      <td>405</td>\n",
       "      <td>Bakugan Battle Brawlers</td>\n",
       "      <td>2007�2010</td>\n",
       "      <td>5.5</td>\n",
       "      <td>NaN</td>\n",
       "      <td>2,277</td>\n",
       "      <td>22</td>\n",
       "      <td>Animation, Action, Adventure</td>\n",
       "      <td>Jason Deline</td>\n",
       "      <td>Julie Lemieux</td>\n",
       "      <td>Carter Hayden</td>\n",
       "      <td>Shawn Meunier</td>\n",
       "    </tr>\n",
       "    <tr>\n",
       "      <th>4</th>\n",
       "      <td>406</td>\n",
       "      <td>Star Wars: Resistance</td>\n",
       "      <td>2018�2020</td>\n",
       "      <td>5.0</td>\n",
       "      <td>NaN</td>\n",
       "      <td>4,379</td>\n",
       "      <td>30</td>\n",
       "      <td>Animation, Action, Adventure</td>\n",
       "      <td>Christopher Sean</td>\n",
       "      <td>Scott Lawrence</td>\n",
       "      <td>Josh Brener</td>\n",
       "      <td>Suzie McGrath</td>\n",
       "    </tr>\n",
       "    <tr>\n",
       "      <th>5</th>\n",
       "      <td>407</td>\n",
       "      <td>Seinto Seiya: Knights of the Zodiac</td>\n",
       "      <td>2019�2020</td>\n",
       "      <td>4.5</td>\n",
       "      <td>NaN</td>\n",
       "      <td>1,641</td>\n",
       "      <td>25</td>\n",
       "      <td>Animation, Action, Adventure</td>\n",
       "      <td>Bryson Baugus</td>\n",
       "      <td>Marty Fleck</td>\n",
       "      <td>Emily Neves</td>\n",
       "      <td>Ty Mahany</td>\n",
       "    </tr>\n",
       "  </tbody>\n",
       "</table>\n",
       "</div>"
      ],
      "text/plain": [
       "   Unnamed: 0                                title       year  rating  \\\n",
       "1         403              Metaru faito Beibureedo  2009�2013     5.9   \n",
       "2         404                    Ben 10: Omniverse  2012�2014     5.8   \n",
       "3         405              Bakugan Battle Brawlers  2007�2010     5.5   \n",
       "4         406                Star Wars: Resistance  2018�2020     5.0   \n",
       "5         407  Seinto Seiya: Knights of the Zodiac  2019�2020     4.5   \n",
       "\n",
       "  certificate  votes  runtime                                     gener  \\\n",
       "1         NaN  1,159       30     Animation, Action, Family               \n",
       "2           7  3,410       22  Animation, Action, Adventure               \n",
       "3         NaN  2,277       22  Animation, Action, Adventure               \n",
       "4         NaN  4,379       30  Animation, Action, Adventure               \n",
       "5         NaN  1,641       25  Animation, Action, Adventure               \n",
       "\n",
       "      voice_artist1    voice_artist2   voice_artist3  voice_artist4  \n",
       "1      Jason Deline    Carter Hayden  Andrew Jackson   Scott Gorman  \n",
       "2    Yuri Lowenthal  Bumper Robinson      Eric Bauza    Paul Eiding  \n",
       "3      Jason Deline    Julie Lemieux   Carter Hayden  Shawn Meunier  \n",
       "4  Christopher Sean   Scott Lawrence     Josh Brener  Suzie McGrath  \n",
       "5     Bryson Baugus      Marty Fleck     Emily Neves      Ty Mahany  "
      ]
     },
     "execution_count": 6,
     "metadata": {},
     "output_type": "execute_result"
    }
   ],
   "source": [
    "df1=df.sort_values('rating',ascending=[False]).tail(5)\n",
    "df1.index= np.arange(1,6)\n",
    "df1"
   ]
  },
  {
   "cell_type": "markdown",
   "metadata": {},
   "source": [
    "### ***AVERAGE RATING***"
   ]
  },
  {
   "cell_type": "code",
   "execution_count": 7,
   "metadata": {},
   "outputs": [],
   "source": [
    "ratings=df.groupby([\"title\",'votes'])[\"rating\"].sum()"
   ]
  },
  {
   "cell_type": "code",
   "execution_count": 8,
   "metadata": {},
   "outputs": [
    {
     "data": {
      "text/plain": [
       "7.752450980392157"
      ]
     },
     "execution_count": 8,
     "metadata": {},
     "output_type": "execute_result"
    }
   ],
   "source": [
    "average_rating=df['rating'].mean()\n",
    "average_rating"
   ]
  },
  {
   "cell_type": "code",
   "execution_count": 9,
   "metadata": {},
   "outputs": [
    {
     "data": {
      "text/html": [
       "<div>\n",
       "<style scoped>\n",
       "    .dataframe tbody tr th:only-of-type {\n",
       "        vertical-align: middle;\n",
       "    }\n",
       "\n",
       "    .dataframe tbody tr th {\n",
       "        vertical-align: top;\n",
       "    }\n",
       "\n",
       "    .dataframe thead th {\n",
       "        text-align: right;\n",
       "    }\n",
       "</style>\n",
       "<table border=\"1\" class=\"dataframe\">\n",
       "  <thead>\n",
       "    <tr style=\"text-align: right;\">\n",
       "      <th></th>\n",
       "      <th>title</th>\n",
       "      <th>votes</th>\n",
       "      <th>rating</th>\n",
       "    </tr>\n",
       "  </thead>\n",
       "  <tbody>\n",
       "    <tr>\n",
       "      <th>0</th>\n",
       "      <td>.hack//SIGN</td>\n",
       "      <td>1,199</td>\n",
       "      <td>6.9</td>\n",
       "    </tr>\n",
       "    <tr>\n",
       "      <th>1</th>\n",
       "      <td>12 kokuki</td>\n",
       "      <td>1,819</td>\n",
       "      <td>8.1</td>\n",
       "    </tr>\n",
       "    <tr>\n",
       "      <th>2</th>\n",
       "      <td>7Seeds</td>\n",
       "      <td>1,055</td>\n",
       "      <td>6.4</td>\n",
       "    </tr>\n",
       "    <tr>\n",
       "      <th>3</th>\n",
       "      <td>Aa Megamisama</td>\n",
       "      <td>1,101</td>\n",
       "      <td>7.4</td>\n",
       "    </tr>\n",
       "    <tr>\n",
       "      <th>4</th>\n",
       "      <td>Accel World</td>\n",
       "      <td>1,867</td>\n",
       "      <td>7.2</td>\n",
       "    </tr>\n",
       "    <tr>\n",
       "      <th>...</th>\n",
       "      <td>...</td>\n",
       "      <td>...</td>\n",
       "      <td>...</td>\n",
       "    </tr>\n",
       "    <tr>\n",
       "      <th>403</th>\n",
       "      <td>Y�gi�: 5D's</td>\n",
       "      <td>1,383</td>\n",
       "      <td>6.8</td>\n",
       "    </tr>\n",
       "    <tr>\n",
       "      <th>404</th>\n",
       "      <td>Zero no tsukaima</td>\n",
       "      <td>1,760</td>\n",
       "      <td>7.0</td>\n",
       "    </tr>\n",
       "    <tr>\n",
       "      <th>405</th>\n",
       "      <td>�kami to k�shinry�</td>\n",
       "      <td>3,812</td>\n",
       "      <td>8.0</td>\n",
       "    </tr>\n",
       "    <tr>\n",
       "      <th>406</th>\n",
       "      <td>�kami to k�shinry� II</td>\n",
       "      <td>1,240</td>\n",
       "      <td>8.1</td>\n",
       "    </tr>\n",
       "    <tr>\n",
       "      <th>407</th>\n",
       "      <td>�ran k�k� hosutobu</td>\n",
       "      <td>8,441</td>\n",
       "      <td>8.2</td>\n",
       "    </tr>\n",
       "  </tbody>\n",
       "</table>\n",
       "<p>408 rows × 3 columns</p>\n",
       "</div>"
      ],
      "text/plain": [
       "                     title  votes  rating\n",
       "0              .hack//SIGN  1,199     6.9\n",
       "1                12 kokuki  1,819     8.1\n",
       "2                   7Seeds  1,055     6.4\n",
       "3            Aa Megamisama  1,101     7.4\n",
       "4              Accel World  1,867     7.2\n",
       "..                     ...    ...     ...\n",
       "403            Y�gi�: 5D's  1,383     6.8\n",
       "404       Zero no tsukaima  1,760     7.0\n",
       "405     �kami to k�shinry�  3,812     8.0\n",
       "406  �kami to k�shinry� II  1,240     8.1\n",
       "407     �ran k�k� hosutobu  8,441     8.2\n",
       "\n",
       "[408 rows x 3 columns]"
      ]
     },
     "execution_count": 9,
     "metadata": {},
     "output_type": "execute_result"
    }
   ],
   "source": [
    "ratings=ratings.reset_index()\n",
    "ratings"
   ]
  },
  {
   "cell_type": "code",
   "execution_count": 10,
   "metadata": {},
   "outputs": [
    {
     "data": {
      "text/plain": [
       "9.2"
      ]
     },
     "execution_count": 10,
     "metadata": {},
     "output_type": "execute_result"
    }
   ],
   "source": [
    "ratings[\"rating\"].max()"
   ]
  },
  {
   "cell_type": "code",
   "execution_count": 11,
   "metadata": {},
   "outputs": [
    {
     "data": {
      "text/plain": [
       "4.5"
      ]
     },
     "execution_count": 11,
     "metadata": {},
     "output_type": "execute_result"
    }
   ],
   "source": [
    "ratings[\"rating\"].min()"
   ]
  },
  {
   "cell_type": "markdown",
   "metadata": {},
   "source": [
    "### ***list of head 10 anime having rating above the avg rating***"
   ]
  },
  {
   "cell_type": "code",
   "execution_count": 12,
   "metadata": {},
   "outputs": [
    {
     "data": {
      "text/html": [
       "<div>\n",
       "<style scoped>\n",
       "    .dataframe tbody tr th:only-of-type {\n",
       "        vertical-align: middle;\n",
       "    }\n",
       "\n",
       "    .dataframe tbody tr th {\n",
       "        vertical-align: top;\n",
       "    }\n",
       "\n",
       "    .dataframe thead th {\n",
       "        text-align: right;\n",
       "    }\n",
       "</style>\n",
       "<table border=\"1\" class=\"dataframe\">\n",
       "  <thead>\n",
       "    <tr style=\"text-align: right;\">\n",
       "      <th></th>\n",
       "      <th>title</th>\n",
       "      <th>votes</th>\n",
       "      <th>rating</th>\n",
       "    </tr>\n",
       "  </thead>\n",
       "  <tbody>\n",
       "    <tr>\n",
       "      <th>1</th>\n",
       "      <td>12 kokuki</td>\n",
       "      <td>1,819</td>\n",
       "      <td>8.1</td>\n",
       "    </tr>\n",
       "    <tr>\n",
       "      <th>5</th>\n",
       "      <td>Aggretsuko</td>\n",
       "      <td>4,963</td>\n",
       "      <td>8.1</td>\n",
       "    </tr>\n",
       "    <tr>\n",
       "      <th>9</th>\n",
       "      <td>Akagami no Shirayuki-hime</td>\n",
       "      <td>2,047</td>\n",
       "      <td>7.8</td>\n",
       "    </tr>\n",
       "    <tr>\n",
       "      <th>10</th>\n",
       "      <td>Akage no An</td>\n",
       "      <td>1,531</td>\n",
       "      <td>7.8</td>\n",
       "    </tr>\n",
       "    <tr>\n",
       "      <th>11</th>\n",
       "      <td>Akame ga Kill!</td>\n",
       "      <td>17,570</td>\n",
       "      <td>7.9</td>\n",
       "    </tr>\n",
       "    <tr>\n",
       "      <th>12</th>\n",
       "      <td>Akatsuki no Yona</td>\n",
       "      <td>2,793</td>\n",
       "      <td>8.1</td>\n",
       "    </tr>\n",
       "    <tr>\n",
       "      <th>16</th>\n",
       "      <td>Ano hi mita hana no namae o bokutachi wa mada ...</td>\n",
       "      <td>10,067</td>\n",
       "      <td>8.2</td>\n",
       "    </tr>\n",
       "    <tr>\n",
       "      <th>17</th>\n",
       "      <td>Ansatsu ky�shitsu</td>\n",
       "      <td>9,122</td>\n",
       "      <td>8.0</td>\n",
       "    </tr>\n",
       "    <tr>\n",
       "      <th>20</th>\n",
       "      <td>Arabian naitsu: Shinbaddo no b�ken</td>\n",
       "      <td>1,299</td>\n",
       "      <td>7.8</td>\n",
       "    </tr>\n",
       "    <tr>\n",
       "      <th>24</th>\n",
       "      <td>Avatar: The Last Airbender</td>\n",
       "      <td>2,53,806</td>\n",
       "      <td>9.2</td>\n",
       "    </tr>\n",
       "  </tbody>\n",
       "</table>\n",
       "</div>"
      ],
      "text/plain": [
       "                                                title     votes  rating\n",
       "1                                           12 kokuki     1,819     8.1\n",
       "5                                          Aggretsuko     4,963     8.1\n",
       "9                           Akagami no Shirayuki-hime     2,047     7.8\n",
       "10                                        Akage no An     1,531     7.8\n",
       "11                                     Akame ga Kill!    17,570     7.9\n",
       "12                                   Akatsuki no Yona     2,793     8.1\n",
       "16  Ano hi mita hana no namae o bokutachi wa mada ...    10,067     8.2\n",
       "17                                  Ansatsu ky�shitsu     9,122     8.0\n",
       "20                 Arabian naitsu: Shinbaddo no b�ken     1,299     7.8\n",
       "24                         Avatar: The Last Airbender  2,53,806     9.2"
      ]
     },
     "execution_count": 12,
     "metadata": {},
     "output_type": "execute_result"
    }
   ],
   "source": [
    "ratings[ratings[\"rating\"]>=average_rating].head(10)"
   ]
  },
  {
   "cell_type": "markdown",
   "metadata": {},
   "source": [
    "### ***list of head 10 anime having rating below the avg rating***"
   ]
  },
  {
   "cell_type": "code",
   "execution_count": 13,
   "metadata": {},
   "outputs": [
    {
     "data": {
      "text/html": [
       "<div>\n",
       "<style scoped>\n",
       "    .dataframe tbody tr th:only-of-type {\n",
       "        vertical-align: middle;\n",
       "    }\n",
       "\n",
       "    .dataframe tbody tr th {\n",
       "        vertical-align: top;\n",
       "    }\n",
       "\n",
       "    .dataframe thead th {\n",
       "        text-align: right;\n",
       "    }\n",
       "</style>\n",
       "<table border=\"1\" class=\"dataframe\">\n",
       "  <thead>\n",
       "    <tr style=\"text-align: right;\">\n",
       "      <th></th>\n",
       "      <th>title</th>\n",
       "      <th>votes</th>\n",
       "      <th>rating</th>\n",
       "    </tr>\n",
       "  </thead>\n",
       "  <tbody>\n",
       "    <tr>\n",
       "      <th>0</th>\n",
       "      <td>.hack//SIGN</td>\n",
       "      <td>1,199</td>\n",
       "      <td>6.9</td>\n",
       "    </tr>\n",
       "    <tr>\n",
       "      <th>2</th>\n",
       "      <td>7Seeds</td>\n",
       "      <td>1,055</td>\n",
       "      <td>6.4</td>\n",
       "    </tr>\n",
       "    <tr>\n",
       "      <th>3</th>\n",
       "      <td>Aa Megamisama</td>\n",
       "      <td>1,101</td>\n",
       "      <td>7.4</td>\n",
       "    </tr>\n",
       "    <tr>\n",
       "      <th>4</th>\n",
       "      <td>Accel World</td>\n",
       "      <td>1,867</td>\n",
       "      <td>7.2</td>\n",
       "    </tr>\n",
       "    <tr>\n",
       "      <th>6</th>\n",
       "      <td>Air</td>\n",
       "      <td>1,287</td>\n",
       "      <td>7.2</td>\n",
       "    </tr>\n",
       "    <tr>\n",
       "      <th>7</th>\n",
       "      <td>Air Gear</td>\n",
       "      <td>1,168</td>\n",
       "      <td>7.2</td>\n",
       "    </tr>\n",
       "    <tr>\n",
       "      <th>8</th>\n",
       "      <td>Ajin</td>\n",
       "      <td>5,394</td>\n",
       "      <td>7.6</td>\n",
       "    </tr>\n",
       "    <tr>\n",
       "      <th>13</th>\n",
       "      <td>Aldnoah.Zero</td>\n",
       "      <td>2,003</td>\n",
       "      <td>7.2</td>\n",
       "    </tr>\n",
       "    <tr>\n",
       "      <th>14</th>\n",
       "      <td>Anaz�</td>\n",
       "      <td>11,623</td>\n",
       "      <td>7.6</td>\n",
       "    </tr>\n",
       "    <tr>\n",
       "      <th>15</th>\n",
       "      <td>Angel Beats!</td>\n",
       "      <td>12,101</td>\n",
       "      <td>7.7</td>\n",
       "    </tr>\n",
       "  </tbody>\n",
       "</table>\n",
       "</div>"
      ],
      "text/plain": [
       "            title   votes  rating\n",
       "0     .hack//SIGN   1,199     6.9\n",
       "2          7Seeds   1,055     6.4\n",
       "3   Aa Megamisama   1,101     7.4\n",
       "4     Accel World   1,867     7.2\n",
       "6             Air   1,287     7.2\n",
       "7        Air Gear   1,168     7.2\n",
       "8            Ajin   5,394     7.6\n",
       "13   Aldnoah.Zero   2,003     7.2\n",
       "14          Anaz�  11,623     7.6\n",
       "15   Angel Beats!  12,101     7.7"
      ]
     },
     "execution_count": 13,
     "metadata": {},
     "output_type": "execute_result"
    }
   ],
   "source": [
    "ratings[ratings[\"rating\"]<average_rating].head(10)"
   ]
  },
  {
   "cell_type": "code",
   "execution_count": 14,
   "metadata": {},
   "outputs": [
    {
     "data": {
      "image/png": "[encoded data removed]",
      "text/plain": [
       "<Figure size 648x648 with 1 Axes>"
      ]
     },
     "metadata": {
      "needs_background": "light"
     },
     "output_type": "display_data"
    }
   ],
   "source": [
    "plt.figure(figsize=(9,9))\n",
    "df[\"rating\"].value_counts().plot(kind=\"bar\") # pandas barplot\n",
    "plt.ylabel(\"count\")\n",
    "plt.xlabel(\"rating\")\n",
    "plt.show()"
   ]
  },
  {
   "cell_type": "code",
   "execution_count": 15,
   "metadata": {},
   "outputs": [
    {
     "data": {
      "image/png": "[encoded data removed]",
      "text/plain": [
       "<Figure size 1080x360 with 1 Axes>"
      ]
     },
     "metadata": {
      "needs_background": "light"
     },
     "output_type": "display_data"
    }
   ],
   "source": [
    "fig,axs=plt.subplots(figsize=(15,5))\n",
    "g=sns.barplot(x=df['title'][:5],y=df['rating'][:5], palette = 'husl')\n",
    "g.set_title(\"7 Top  rated anime\", weight = \"bold\")\n",
    "plt.show()"
   ]
  },
  {
   "cell_type": "markdown",
   "metadata": {},
   "source": [
    "# ***Runtime***"
   ]
  },
  {
   "cell_type": "markdown",
   "metadata": {},
   "source": [
    "### ***GETTING TOP 5  ANIME HAVING LONGEST RUNTIME & SMALLEST RUNTIME***"
   ]
  },
  {
   "cell_type": "code",
   "execution_count": 16,
   "metadata": {},
   "outputs": [
    {
     "data": {
      "text/html": [
       "<div>\n",
       "<style scoped>\n",
       "    .dataframe tbody tr th:only-of-type {\n",
       "        vertical-align: middle;\n",
       "    }\n",
       "\n",
       "    .dataframe tbody tr th {\n",
       "        vertical-align: top;\n",
       "    }\n",
       "\n",
       "    .dataframe thead th {\n",
       "        text-align: right;\n",
       "    }\n",
       "</style>\n",
       "<table border=\"1\" class=\"dataframe\">\n",
       "  <thead>\n",
       "    <tr style=\"text-align: right;\">\n",
       "      <th></th>\n",
       "      <th>Unnamed: 0</th>\n",
       "      <th>title</th>\n",
       "      <th>year</th>\n",
       "      <th>rating</th>\n",
       "      <th>certificate</th>\n",
       "      <th>votes</th>\n",
       "      <th>runtime</th>\n",
       "      <th>gener</th>\n",
       "      <th>voice_artist1</th>\n",
       "      <th>voice_artist2</th>\n",
       "      <th>voice_artist3</th>\n",
       "      <th>voice_artist4</th>\n",
       "    </tr>\n",
       "  </thead>\n",
       "  <tbody>\n",
       "    <tr>\n",
       "      <th>1</th>\n",
       "      <td>150</td>\n",
       "      <td>Bakemonogatari</td>\n",
       "      <td>2009�2010</td>\n",
       "      <td>8.0</td>\n",
       "      <td>NaN</td>\n",
       "      <td>4,424</td>\n",
       "      <td>50</td>\n",
       "      <td>Animation, Action, Comedy</td>\n",
       "      <td>Hiroshi Kamiya</td>\n",
       "      <td>Eri Kitamura</td>\n",
       "      <td>Yuka Iguchi</td>\n",
       "      <td>Chiwa Sait�</td>\n",
       "    </tr>\n",
       "    <tr>\n",
       "      <th>2</th>\n",
       "      <td>241</td>\n",
       "      <td>Kid� senshi Gundam Seed</td>\n",
       "      <td>2002�2003</td>\n",
       "      <td>7.7</td>\n",
       "      <td>NaN</td>\n",
       "      <td>2,239</td>\n",
       "      <td>50</td>\n",
       "      <td>Animation, Action, Drama</td>\n",
       "      <td>S�ichir� Hoshi</td>\n",
       "      <td>Ted Cole</td>\n",
       "      <td>Brian Dobson</td>\n",
       "      <td>Adam Henderson</td>\n",
       "    </tr>\n",
       "    <tr>\n",
       "      <th>3</th>\n",
       "      <td>365</td>\n",
       "      <td>Rabu Hina</td>\n",
       "      <td>2000�2001</td>\n",
       "      <td>7.0</td>\n",
       "      <td>NaN</td>\n",
       "      <td>2,092</td>\n",
       "      <td>50</td>\n",
       "      <td>Animation, Comedy, Drama</td>\n",
       "      <td>Y�ji Ueda</td>\n",
       "      <td>Yui Horie</td>\n",
       "      <td>Masayo Kurata</td>\n",
       "      <td>Yu Asakawa</td>\n",
       "    </tr>\n",
       "    <tr>\n",
       "      <th>4</th>\n",
       "      <td>101</td>\n",
       "      <td>Kuroshitsuji: Book of Circus</td>\n",
       "      <td>2014�</td>\n",
       "      <td>8.2</td>\n",
       "      <td>NaN</td>\n",
       "      <td>1,540</td>\n",
       "      <td>50</td>\n",
       "      <td>Animation, Comedy, Fantasy</td>\n",
       "      <td>Matthew Mercer</td>\n",
       "      <td>Chaf�rin</td>\n",
       "      <td>Shunji Fujimura</td>\n",
       "      <td>Jun Fukuyama</td>\n",
       "    </tr>\n",
       "    <tr>\n",
       "      <th>5</th>\n",
       "      <td>364</td>\n",
       "      <td>Scryed</td>\n",
       "      <td>2001�</td>\n",
       "      <td>7.0</td>\n",
       "      <td>NaN</td>\n",
       "      <td>1,043</td>\n",
       "      <td>50</td>\n",
       "      <td>Animation, Action, Adventure</td>\n",
       "      <td>Steve Blum</td>\n",
       "      <td>Carrie Savage</td>\n",
       "      <td>Jason Spisak</td>\n",
       "      <td>Kirk Thornton</td>\n",
       "    </tr>\n",
       "  </tbody>\n",
       "</table>\n",
       "</div>"
      ],
      "text/plain": [
       "   Unnamed: 0                         title       year  rating certificate  \\\n",
       "1         150                Bakemonogatari  2009�2010     8.0         NaN   \n",
       "2         241       Kid� senshi Gundam Seed  2002�2003     7.7         NaN   \n",
       "3         365                     Rabu Hina  2000�2001     7.0         NaN   \n",
       "4         101  Kuroshitsuji: Book of Circus  2014�         8.2         NaN   \n",
       "5         364                        Scryed  2001�         7.0         NaN   \n",
       "\n",
       "   votes  runtime                                     gener   voice_artist1  \\\n",
       "1  4,424       50     Animation, Action, Comedy              Hiroshi Kamiya   \n",
       "2  2,239       50      Animation, Action, Drama              S�ichir� Hoshi   \n",
       "3  2,092       50      Animation, Comedy, Drama                   Y�ji Ueda   \n",
       "4  1,540       50    Animation, Comedy, Fantasy              Matthew Mercer   \n",
       "5  1,043       50  Animation, Action, Adventure                  Steve Blum   \n",
       "\n",
       "   voice_artist2    voice_artist3   voice_artist4  \n",
       "1   Eri Kitamura      Yuka Iguchi     Chiwa Sait�  \n",
       "2       Ted Cole     Brian Dobson  Adam Henderson  \n",
       "3      Yui Horie    Masayo Kurata      Yu Asakawa  \n",
       "4       Chaf�rin  Shunji Fujimura    Jun Fukuyama  \n",
       "5  Carrie Savage     Jason Spisak   Kirk Thornton  "
      ]
     },
     "execution_count": 16,
     "metadata": {},
     "output_type": "execute_result"
    }
   ],
   "source": [
    "df1=df.sort_values('runtime',ascending=[False]).head(5)\n",
    "df1.index= np.arange(1,6)\n",
    "df1"
   ]
  },
  {
   "cell_type": "code",
   "execution_count": 17,
   "metadata": {},
   "outputs": [
    {
     "data": {
      "text/html": [
       "<div>\n",
       "<style scoped>\n",
       "    .dataframe tbody tr th:only-of-type {\n",
       "        vertical-align: middle;\n",
       "    }\n",
       "\n",
       "    .dataframe tbody tr th {\n",
       "        vertical-align: top;\n",
       "    }\n",
       "\n",
       "    .dataframe thead th {\n",
       "        text-align: right;\n",
       "    }\n",
       "</style>\n",
       "<table border=\"1\" class=\"dataframe\">\n",
       "  <thead>\n",
       "    <tr style=\"text-align: right;\">\n",
       "      <th></th>\n",
       "      <th>Unnamed: 0</th>\n",
       "      <th>title</th>\n",
       "      <th>year</th>\n",
       "      <th>rating</th>\n",
       "      <th>certificate</th>\n",
       "      <th>votes</th>\n",
       "      <th>runtime</th>\n",
       "      <th>gener</th>\n",
       "      <th>voice_artist1</th>\n",
       "      <th>voice_artist2</th>\n",
       "      <th>voice_artist3</th>\n",
       "      <th>voice_artist4</th>\n",
       "    </tr>\n",
       "  </thead>\n",
       "  <tbody>\n",
       "    <tr>\n",
       "      <th>1</th>\n",
       "      <td>279</td>\n",
       "      <td>Kokoro Connect</td>\n",
       "      <td>2012</td>\n",
       "      <td>7.5</td>\n",
       "      <td>NaN</td>\n",
       "      <td>1,794</td>\n",
       "      <td>15</td>\n",
       "      <td>Animation, Comedy, Drama</td>\n",
       "      <td>Takahiro Mizushima</td>\n",
       "      <td>Aki Toyosaki</td>\n",
       "      <td>Miyuki Sawashiro</td>\n",
       "      <td>Hisako Kanemoto</td>\n",
       "    </tr>\n",
       "    <tr>\n",
       "      <th>2</th>\n",
       "      <td>284</td>\n",
       "      <td>Jigoku sh�jo</td>\n",
       "      <td>2005�2006</td>\n",
       "      <td>7.5</td>\n",
       "      <td>NaN</td>\n",
       "      <td>1,575</td>\n",
       "      <td>15</td>\n",
       "      <td>Animation, Drama, Fantasy</td>\n",
       "      <td>Mamiko Noto</td>\n",
       "      <td>Masaya Matsukaze</td>\n",
       "      <td>Takako Honda</td>\n",
       "      <td>Takayuki Sug�</td>\n",
       "    </tr>\n",
       "    <tr>\n",
       "      <th>3</th>\n",
       "      <td>174</td>\n",
       "      <td>RWBY</td>\n",
       "      <td>2012�</td>\n",
       "      <td>7.9</td>\n",
       "      <td>NaN</td>\n",
       "      <td>5,187</td>\n",
       "      <td>13</td>\n",
       "      <td>Animation, Action, Adventure</td>\n",
       "      <td>Lindsay Jones</td>\n",
       "      <td>Kara Eberle</td>\n",
       "      <td>Barbara Dunkelman</td>\n",
       "      <td>Arryn Zech</td>\n",
       "    </tr>\n",
       "    <tr>\n",
       "      <th>4</th>\n",
       "      <td>54</td>\n",
       "      <td>Rilakkuma to Kaorusan</td>\n",
       "      <td>2019</td>\n",
       "      <td>8.4</td>\n",
       "      <td>NaN</td>\n",
       "      <td>1,360</td>\n",
       "      <td>12</td>\n",
       "      <td>Animation, Comedy, Drama</td>\n",
       "      <td>Veronica Taylor</td>\n",
       "      <td>Abby Trott</td>\n",
       "      <td>Barbara Goodson</td>\n",
       "      <td>Chris Hackney</td>\n",
       "    </tr>\n",
       "    <tr>\n",
       "      <th>5</th>\n",
       "      <td>340</td>\n",
       "      <td>Super Dragon Ball Heroes</td>\n",
       "      <td>2018�</td>\n",
       "      <td>7.1</td>\n",
       "      <td>NaN</td>\n",
       "      <td>1,701</td>\n",
       "      <td>10</td>\n",
       "      <td>Animation, Action, Adventure</td>\n",
       "      <td>Ry� Horikawa</td>\n",
       "      <td>Takeshi Kusao</td>\n",
       "      <td>Masako Nozawa</td>\n",
       "      <td>Ry�sei Nakao</td>\n",
       "    </tr>\n",
       "  </tbody>\n",
       "</table>\n",
       "</div>"
      ],
      "text/plain": [
       "   Unnamed: 0                     title       year  rating certificate  votes  \\\n",
       "1         279            Kokoro Connect       2012     7.5         NaN  1,794   \n",
       "2         284              Jigoku sh�jo  2005�2006     7.5         NaN  1,575   \n",
       "3         174                      RWBY  2012�         7.9         NaN  5,187   \n",
       "4          54     Rilakkuma to Kaorusan       2019     8.4         NaN  1,360   \n",
       "5         340  Super Dragon Ball Heroes  2018�         7.1         NaN  1,701   \n",
       "\n",
       "   runtime                                     gener       voice_artist1  \\\n",
       "1       15      Animation, Comedy, Drama              Takahiro Mizushima   \n",
       "2       15     Animation, Drama, Fantasy                     Mamiko Noto   \n",
       "3       13  Animation, Action, Adventure                   Lindsay Jones   \n",
       "4       12      Animation, Comedy, Drama                 Veronica Taylor   \n",
       "5       10  Animation, Action, Adventure                    Ry� Horikawa   \n",
       "\n",
       "      voice_artist2      voice_artist3    voice_artist4  \n",
       "1      Aki Toyosaki   Miyuki Sawashiro  Hisako Kanemoto  \n",
       "2  Masaya Matsukaze       Takako Honda    Takayuki Sug�  \n",
       "3       Kara Eberle  Barbara Dunkelman       Arryn Zech  \n",
       "4        Abby Trott    Barbara Goodson    Chris Hackney  \n",
       "5     Takeshi Kusao      Masako Nozawa     Ry�sei Nakao  "
      ]
     },
     "execution_count": 17,
     "metadata": {},
     "output_type": "execute_result"
    }
   ],
   "source": [
    "df1=df.sort_values('runtime',ascending=[False]).tail(5)\n",
    "df1.index= np.arange(1,6)\n",
    "df1"
   ]
  },
  {
   "cell_type": "markdown",
   "metadata": {},
   "source": [
    "### ***AVERAGE RUNTIME***"
   ]
  },
  {
   "cell_type": "code",
   "execution_count": 18,
   "metadata": {},
   "outputs": [],
   "source": [
    "runtime=df.groupby([\"title\"])[\"runtime\"].sum()"
   ]
  },
  {
   "cell_type": "code",
   "execution_count": 19,
   "metadata": {},
   "outputs": [
    {
     "data": {
      "text/plain": [
       "24.639705882352942"
      ]
     },
     "execution_count": 19,
     "metadata": {},
     "output_type": "execute_result"
    }
   ],
   "source": [
    "average_runtime=df['runtime'].mean()\n",
    "average_runtime"
   ]
  },
  {
   "cell_type": "code",
   "execution_count": 20,
   "metadata": {},
   "outputs": [
    {
     "data": {
      "text/html": [
       "<div>\n",
       "<style scoped>\n",
       "    .dataframe tbody tr th:only-of-type {\n",
       "        vertical-align: middle;\n",
       "    }\n",
       "\n",
       "    .dataframe tbody tr th {\n",
       "        vertical-align: top;\n",
       "    }\n",
       "\n",
       "    .dataframe thead th {\n",
       "        text-align: right;\n",
       "    }\n",
       "</style>\n",
       "<table border=\"1\" class=\"dataframe\">\n",
       "  <thead>\n",
       "    <tr style=\"text-align: right;\">\n",
       "      <th></th>\n",
       "      <th>title</th>\n",
       "      <th>runtime</th>\n",
       "    </tr>\n",
       "  </thead>\n",
       "  <tbody>\n",
       "    <tr>\n",
       "      <th>0</th>\n",
       "      <td>.hack//SIGN</td>\n",
       "      <td>25</td>\n",
       "    </tr>\n",
       "    <tr>\n",
       "      <th>1</th>\n",
       "      <td>12 kokuki</td>\n",
       "      <td>25</td>\n",
       "    </tr>\n",
       "    <tr>\n",
       "      <th>2</th>\n",
       "      <td>7Seeds</td>\n",
       "      <td>25</td>\n",
       "    </tr>\n",
       "    <tr>\n",
       "      <th>3</th>\n",
       "      <td>Aa Megamisama</td>\n",
       "      <td>25</td>\n",
       "    </tr>\n",
       "    <tr>\n",
       "      <th>4</th>\n",
       "      <td>Accel World</td>\n",
       "      <td>24</td>\n",
       "    </tr>\n",
       "    <tr>\n",
       "      <th>...</th>\n",
       "      <td>...</td>\n",
       "      <td>...</td>\n",
       "    </tr>\n",
       "    <tr>\n",
       "      <th>395</th>\n",
       "      <td>Y�gi�: 5D's</td>\n",
       "      <td>30</td>\n",
       "    </tr>\n",
       "    <tr>\n",
       "      <th>396</th>\n",
       "      <td>Zero no tsukaima</td>\n",
       "      <td>24</td>\n",
       "    </tr>\n",
       "    <tr>\n",
       "      <th>397</th>\n",
       "      <td>�kami to k�shinry�</td>\n",
       "      <td>24</td>\n",
       "    </tr>\n",
       "    <tr>\n",
       "      <th>398</th>\n",
       "      <td>�kami to k�shinry� II</td>\n",
       "      <td>19</td>\n",
       "    </tr>\n",
       "    <tr>\n",
       "      <th>399</th>\n",
       "      <td>�ran k�k� hosutobu</td>\n",
       "      <td>24</td>\n",
       "    </tr>\n",
       "  </tbody>\n",
       "</table>\n",
       "<p>400 rows × 2 columns</p>\n",
       "</div>"
      ],
      "text/plain": [
       "                     title  runtime\n",
       "0              .hack//SIGN       25\n",
       "1                12 kokuki       25\n",
       "2                   7Seeds       25\n",
       "3            Aa Megamisama       25\n",
       "4              Accel World       24\n",
       "..                     ...      ...\n",
       "395            Y�gi�: 5D's       30\n",
       "396       Zero no tsukaima       24\n",
       "397     �kami to k�shinry�       24\n",
       "398  �kami to k�shinry� II       19\n",
       "399     �ran k�k� hosutobu       24\n",
       "\n",
       "[400 rows x 2 columns]"
      ]
     },
     "execution_count": 20,
     "metadata": {},
     "output_type": "execute_result"
    }
   ],
   "source": [
    "runtime=runtime.reset_index()\n",
    "runtime"
   ]
  },
  {
   "cell_type": "markdown",
   "metadata": {},
   "source": [
    "#### ***Anime with maximum runtime***"
   ]
  },
  {
   "cell_type": "code",
   "execution_count": 21,
   "metadata": {},
   "outputs": [
    {
     "data": {
      "text/plain": [
       "85"
      ]
     },
     "execution_count": 21,
     "metadata": {},
     "output_type": "execute_result"
    }
   ],
   "source": [
    "runtime[\"runtime\"].max()"
   ]
  },
  {
   "cell_type": "code",
   "execution_count": 22,
   "metadata": {},
   "outputs": [
    {
     "data": {
      "text/html": [
       "<div>\n",
       "<style scoped>\n",
       "    .dataframe tbody tr th:only-of-type {\n",
       "        vertical-align: middle;\n",
       "    }\n",
       "\n",
       "    .dataframe tbody tr th {\n",
       "        vertical-align: top;\n",
       "    }\n",
       "\n",
       "    .dataframe thead th {\n",
       "        text-align: right;\n",
       "    }\n",
       "</style>\n",
       "<table border=\"1\" class=\"dataframe\">\n",
       "  <thead>\n",
       "    <tr style=\"text-align: right;\">\n",
       "      <th></th>\n",
       "      <th>title</th>\n",
       "      <th>runtime</th>\n",
       "    </tr>\n",
       "  </thead>\n",
       "  <tbody>\n",
       "    <tr>\n",
       "      <th>90</th>\n",
       "      <td>Doraemon</td>\n",
       "      <td>85</td>\n",
       "    </tr>\n",
       "  </tbody>\n",
       "</table>\n",
       "</div>"
      ],
      "text/plain": [
       "       title  runtime\n",
       "90  Doraemon       85"
      ]
     },
     "execution_count": 22,
     "metadata": {},
     "output_type": "execute_result"
    }
   ],
   "source": [
    "runtime[runtime[\"runtime\"]==85]"
   ]
  },
  {
   "cell_type": "markdown",
   "metadata": {},
   "source": [
    "#### ***Anime with minimum runtime***"
   ]
  },
  {
   "cell_type": "code",
   "execution_count": 23,
   "metadata": {},
   "outputs": [
    {
     "data": {
      "text/plain": [
       "10"
      ]
     },
     "execution_count": 23,
     "metadata": {},
     "output_type": "execute_result"
    }
   ],
   "source": [
    "runtime[\"runtime\"].min()"
   ]
  },
  {
   "cell_type": "code",
   "execution_count": 24,
   "metadata": {},
   "outputs": [
    {
     "data": {
      "text/html": [
       "<div>\n",
       "<style scoped>\n",
       "    .dataframe tbody tr th:only-of-type {\n",
       "        vertical-align: middle;\n",
       "    }\n",
       "\n",
       "    .dataframe tbody tr th {\n",
       "        vertical-align: top;\n",
       "    }\n",
       "\n",
       "    .dataframe thead th {\n",
       "        text-align: right;\n",
       "    }\n",
       "</style>\n",
       "<table border=\"1\" class=\"dataframe\">\n",
       "  <thead>\n",
       "    <tr style=\"text-align: right;\">\n",
       "      <th></th>\n",
       "      <th>title</th>\n",
       "      <th>runtime</th>\n",
       "    </tr>\n",
       "  </thead>\n",
       "  <tbody>\n",
       "    <tr>\n",
       "      <th>343</th>\n",
       "      <td>Super Dragon Ball Heroes</td>\n",
       "      <td>10</td>\n",
       "    </tr>\n",
       "  </tbody>\n",
       "</table>\n",
       "</div>"
      ],
      "text/plain": [
       "                        title  runtime\n",
       "343  Super Dragon Ball Heroes       10"
      ]
     },
     "execution_count": 24,
     "metadata": {},
     "output_type": "execute_result"
    }
   ],
   "source": [
    "runtime[runtime[\"runtime\"]==10]"
   ]
  },
  {
   "cell_type": "markdown",
   "metadata": {},
   "source": [
    "### ***list of head 10 anime having runtime above the avg runtime***"
   ]
  },
  {
   "cell_type": "code",
   "execution_count": 25,
   "metadata": {},
   "outputs": [
    {
     "data": {
      "text/html": [
       "<div>\n",
       "<style scoped>\n",
       "    .dataframe tbody tr th:only-of-type {\n",
       "        vertical-align: middle;\n",
       "    }\n",
       "\n",
       "    .dataframe tbody tr th {\n",
       "        vertical-align: top;\n",
       "    }\n",
       "\n",
       "    .dataframe thead th {\n",
       "        text-align: right;\n",
       "    }\n",
       "</style>\n",
       "<table border=\"1\" class=\"dataframe\">\n",
       "  <thead>\n",
       "    <tr style=\"text-align: right;\">\n",
       "      <th></th>\n",
       "      <th>title</th>\n",
       "      <th>runtime</th>\n",
       "    </tr>\n",
       "  </thead>\n",
       "  <tbody>\n",
       "    <tr>\n",
       "      <th>0</th>\n",
       "      <td>.hack//SIGN</td>\n",
       "      <td>25</td>\n",
       "    </tr>\n",
       "    <tr>\n",
       "      <th>1</th>\n",
       "      <td>12 kokuki</td>\n",
       "      <td>25</td>\n",
       "    </tr>\n",
       "    <tr>\n",
       "      <th>2</th>\n",
       "      <td>7Seeds</td>\n",
       "      <td>25</td>\n",
       "    </tr>\n",
       "    <tr>\n",
       "      <th>3</th>\n",
       "      <td>Aa Megamisama</td>\n",
       "      <td>25</td>\n",
       "    </tr>\n",
       "    <tr>\n",
       "      <th>7</th>\n",
       "      <td>Air Gear</td>\n",
       "      <td>25</td>\n",
       "    </tr>\n",
       "    <tr>\n",
       "      <th>13</th>\n",
       "      <td>Aldnoah.Zero</td>\n",
       "      <td>25</td>\n",
       "    </tr>\n",
       "    <tr>\n",
       "      <th>14</th>\n",
       "      <td>Anaz�</td>\n",
       "      <td>25</td>\n",
       "    </tr>\n",
       "    <tr>\n",
       "      <th>15</th>\n",
       "      <td>Angel Beats!</td>\n",
       "      <td>25</td>\n",
       "    </tr>\n",
       "    <tr>\n",
       "      <th>18</th>\n",
       "      <td>Ao no ekusoshisuto</td>\n",
       "      <td>30</td>\n",
       "    </tr>\n",
       "    <tr>\n",
       "      <th>27</th>\n",
       "      <td>Baccano!</td>\n",
       "      <td>30</td>\n",
       "    </tr>\n",
       "  </tbody>\n",
       "</table>\n",
       "</div>"
      ],
      "text/plain": [
       "                 title  runtime\n",
       "0          .hack//SIGN       25\n",
       "1            12 kokuki       25\n",
       "2               7Seeds       25\n",
       "3        Aa Megamisama       25\n",
       "7             Air Gear       25\n",
       "13        Aldnoah.Zero       25\n",
       "14               Anaz�       25\n",
       "15        Angel Beats!       25\n",
       "18  Ao no ekusoshisuto       30\n",
       "27            Baccano!       30"
      ]
     },
     "execution_count": 25,
     "metadata": {},
     "output_type": "execute_result"
    }
   ],
   "source": [
    "runtime[runtime[\"runtime\"]>average_runtime].head(10)"
   ]
  },
  {
   "cell_type": "markdown",
   "metadata": {},
   "source": [
    "### ***list of head 10 anime having runtime below the avg runtime***"
   ]
  },
  {
   "cell_type": "code",
   "execution_count": 26,
   "metadata": {},
   "outputs": [
    {
     "data": {
      "text/html": [
       "<div>\n",
       "<style scoped>\n",
       "    .dataframe tbody tr th:only-of-type {\n",
       "        vertical-align: middle;\n",
       "    }\n",
       "\n",
       "    .dataframe tbody tr th {\n",
       "        vertical-align: top;\n",
       "    }\n",
       "\n",
       "    .dataframe thead th {\n",
       "        text-align: right;\n",
       "    }\n",
       "</style>\n",
       "<table border=\"1\" class=\"dataframe\">\n",
       "  <thead>\n",
       "    <tr style=\"text-align: right;\">\n",
       "      <th></th>\n",
       "      <th>title</th>\n",
       "      <th>runtime</th>\n",
       "    </tr>\n",
       "  </thead>\n",
       "  <tbody>\n",
       "    <tr>\n",
       "      <th>4</th>\n",
       "      <td>Accel World</td>\n",
       "      <td>24</td>\n",
       "    </tr>\n",
       "    <tr>\n",
       "      <th>5</th>\n",
       "      <td>Aggretsuko</td>\n",
       "      <td>15</td>\n",
       "    </tr>\n",
       "    <tr>\n",
       "      <th>6</th>\n",
       "      <td>Air</td>\n",
       "      <td>24</td>\n",
       "    </tr>\n",
       "    <tr>\n",
       "      <th>8</th>\n",
       "      <td>Ajin</td>\n",
       "      <td>24</td>\n",
       "    </tr>\n",
       "    <tr>\n",
       "      <th>9</th>\n",
       "      <td>Akagami no Shirayuki-hime</td>\n",
       "      <td>24</td>\n",
       "    </tr>\n",
       "    <tr>\n",
       "      <th>10</th>\n",
       "      <td>Akage no An</td>\n",
       "      <td>24</td>\n",
       "    </tr>\n",
       "    <tr>\n",
       "      <th>11</th>\n",
       "      <td>Akame ga Kill!</td>\n",
       "      <td>24</td>\n",
       "    </tr>\n",
       "    <tr>\n",
       "      <th>12</th>\n",
       "      <td>Akatsuki no Yona</td>\n",
       "      <td>24</td>\n",
       "    </tr>\n",
       "    <tr>\n",
       "      <th>16</th>\n",
       "      <td>Ano hi mita hana no namae o bokutachi wa mada ...</td>\n",
       "      <td>23</td>\n",
       "    </tr>\n",
       "    <tr>\n",
       "      <th>17</th>\n",
       "      <td>Ansatsu ky�shitsu</td>\n",
       "      <td>23</td>\n",
       "    </tr>\n",
       "  </tbody>\n",
       "</table>\n",
       "</div>"
      ],
      "text/plain": [
       "                                                title  runtime\n",
       "4                                         Accel World       24\n",
       "5                                          Aggretsuko       15\n",
       "6                                                 Air       24\n",
       "8                                                Ajin       24\n",
       "9                           Akagami no Shirayuki-hime       24\n",
       "10                                        Akage no An       24\n",
       "11                                     Akame ga Kill!       24\n",
       "12                                   Akatsuki no Yona       24\n",
       "16  Ano hi mita hana no namae o bokutachi wa mada ...       23\n",
       "17                                  Ansatsu ky�shitsu       23"
      ]
     },
     "execution_count": 26,
     "metadata": {},
     "output_type": "execute_result"
    }
   ],
   "source": [
    "runtime[runtime[\"runtime\"]<average_runtime].head(10)"
   ]
  },
  {
   "cell_type": "code",
   "execution_count": 27,
   "metadata": {},
   "outputs": [
    {
     "data": {
      "text/plain": [
       "Text(0.5, 1.0, 'Time Duration of anime')"
      ]
     },
     "execution_count": 27,
     "metadata": {},
     "output_type": "execute_result"
    },
    {
     "data": {
      "image/png": "[encoded data removed]",
      "text/plain": [
       "<Figure size 1440x360 with 1 Axes>"
      ]
     },
     "metadata": {
      "needs_background": "light"
     },
     "output_type": "display_data"
    }
   ],
   "source": [
    "fig,axs=plt.subplots(figsize=(20,5))\n",
    "g=sns.kdeplot(df['runtime'])\n",
    "g.set_title(\"Time Duration of anime\", weight = \"bold\")"
   ]
  },
  {
   "cell_type": "code",
   "execution_count": 28,
   "metadata": {},
   "outputs": [
    {
     "data": {
      "text/plain": [
       "<function matplotlib.pyplot.show(close=None, block=None)>"
      ]
     },
     "execution_count": 28,
     "metadata": {},
     "output_type": "execute_result"
    },
    {
     "data": {
      "image/png": "[encoded data removed]",
      "text/plain": [
       "<Figure size 504x504 with 1 Axes>"
      ]
     },
     "metadata": {
      "needs_background": "light"
     },
     "output_type": "display_data"
    }
   ],
   "source": [
    "plt.figure(figsize=(7,7))\n",
    "plt.hist(df[\"runtime\"],bins=10)\n",
    "plt.title(\"runtime frequency distribution\")\n",
    "plt.ylabel(\"frequency\")\n",
    "plt.xlabel(\"runtime\")\n",
    "plt.show"
   ]
  },
  {
   "cell_type": "markdown",
   "metadata": {},
   "source": [
    "# Finding correlation"
   ]
  },
  {
   "cell_type": "code",
   "execution_count": 29,
   "metadata": {},
   "outputs": [
    {
     "data": {
      "text/html": [
       "<div>\n",
       "<style scoped>\n",
       "    .dataframe tbody tr th:only-of-type {\n",
       "        vertical-align: middle;\n",
       "    }\n",
       "\n",
       "    .dataframe tbody tr th {\n",
       "        vertical-align: top;\n",
       "    }\n",
       "\n",
       "    .dataframe thead th {\n",
       "        text-align: right;\n",
       "    }\n",
       "</style>\n",
       "<table border=\"1\" class=\"dataframe\">\n",
       "  <thead>\n",
       "    <tr style=\"text-align: right;\">\n",
       "      <th></th>\n",
       "      <th>Unnamed: 0</th>\n",
       "      <th>rating</th>\n",
       "      <th>runtime</th>\n",
       "    </tr>\n",
       "  </thead>\n",
       "  <tbody>\n",
       "    <tr>\n",
       "      <th>Unnamed: 0</th>\n",
       "      <td>1.000000</td>\n",
       "      <td>-0.948246</td>\n",
       "      <td>0.049368</td>\n",
       "    </tr>\n",
       "    <tr>\n",
       "      <th>rating</th>\n",
       "      <td>-0.948246</td>\n",
       "      <td>1.000000</td>\n",
       "      <td>-0.062221</td>\n",
       "    </tr>\n",
       "    <tr>\n",
       "      <th>runtime</th>\n",
       "      <td>0.049368</td>\n",
       "      <td>-0.062221</td>\n",
       "      <td>1.000000</td>\n",
       "    </tr>\n",
       "  </tbody>\n",
       "</table>\n",
       "</div>"
      ],
      "text/plain": [
       "            Unnamed: 0    rating   runtime\n",
       "Unnamed: 0    1.000000 -0.948246  0.049368\n",
       "rating       -0.948246  1.000000 -0.062221\n",
       "runtime       0.049368 -0.062221  1.000000"
      ]
     },
     "execution_count": 29,
     "metadata": {},
     "output_type": "execute_result"
    }
   ],
   "source": [
    "df.corr()"
   ]
  },
  {
   "cell_type": "code",
   "execution_count": 30,
   "metadata": {},
   "outputs": [
    {
     "data": {
      "image/png": "[encoded data removed]",
      "text/plain": [
       "<Figure size 1080x432 with 4 Axes>"
      ]
     },
     "metadata": {
      "needs_background": "light"
     },
     "output_type": "display_data"
    }
   ],
   "source": [
    "numerical_attributes = ['rating', 'runtime']\n",
    "df[numerical_attributes].hist(figsize = (15, 6), color = 'grey', edgecolor = 'red', layout = (2, 2));"
   ]
  },
  {
   "cell_type": "markdown",
   "metadata": {},
   "source": [
    "# ***CERTIFICATE***"
   ]
  },
  {
   "cell_type": "markdown",
   "metadata": {},
   "source": [
    "### ***analyzing the anime content is sutiable for age group***"
   ]
  },
  {
   "cell_type": "code",
   "execution_count": 31,
   "metadata": {
    "scrolled": true
   },
   "outputs": [
    {
     "name": "stdout",
     "output_type": "stream",
     "text": [
      "Printing the frequency\n"
     ]
    },
    {
     "data": {
      "text/plain": [
       "16           30\n",
       "18           23\n",
       "13           10\n",
       "U             9\n",
       "7             5\n",
       "All           5\n",
       "16+           2\n",
       "Not Rated     2\n",
       "UA            1\n",
       "18+           1\n",
       "G             1\n",
       "Name: certificate, dtype: int64"
      ]
     },
     "metadata": {},
     "output_type": "display_data"
    },
    {
     "name": "stdout",
     "output_type": "stream",
     "text": [
      "Printing the most frequent element of series\n"
     ]
    },
    {
     "data": {
      "text/plain": [
       "0    16\n",
       "dtype: object"
      ]
     },
     "metadata": {},
     "output_type": "display_data"
    }
   ],
   "source": [
    "series = df.certificate\n",
    "# counting the frequency of each element\n",
    "freq = series.value_counts()\n",
    "print(\"Printing the frequency\")\n",
    "display(freq)\n",
    "  \n",
    "# printing the most frequent element\n",
    "print(\"Printing the most frequent element of series\")\n",
    "display(series.mode());"
   ]
  },
  {
   "cell_type": "code",
   "execution_count": 32,
   "metadata": {},
   "outputs": [
    {
     "name": "stderr",
     "output_type": "stream",
     "text": [
      "C:\\Users\\abhim\\anaconda3\\lib\\site-packages\\seaborn\\_decorators.py:36: FutureWarning: Pass the following variable as a keyword arg: x. From version 0.12, the only valid positional argument will be `data`, and passing other arguments without an explicit keyword will result in an error or misinterpretation.\n",
      "  warnings.warn(\n"
     ]
    },
    {
     "data": {
      "image/png": "[encoded data removed]",
      "text/plain": [
       "<Figure size 1440x360 with 1 Axes>"
      ]
     },
     "metadata": {
      "needs_background": "light"
     },
     "output_type": "display_data"
    }
   ],
   "source": [
    "df['certificate']=df['certificate'].fillna('Not Rated')\n",
    "\n",
    "certificates=df[df['certificate']!='Not Rated']['certificate']\n",
    "fig,axs=plt.subplots(figsize=(20,5))\n",
    "g=sns.countplot(certificates)\n",
    "g.set_title(\"Count of Certificates provided\", weight = \"bold\")\n",
    "plt.show()"
   ]
  },
  {
   "cell_type": "code",
   "execution_count": 33,
   "metadata": {},
   "outputs": [
    {
     "data": {
      "image/png": "[encoded data removed]",
      "text/plain": [
       "<Figure size 1800x5760 with 1 Axes>"
      ]
     },
     "metadata": {},
     "output_type": "display_data"
    }
   ],
   "source": [
    "catdata=['certificate']\n",
    "# pandas plot pie plot \n",
    "for i in catdata:\n",
    "    plt.figure(figsize=(25,80))\n",
    "    df[i].value_counts().plot.pie(autopct=\"%1.2f%%\",fontsize=20)\n",
    "    plt.title(\"Delivery Tips by type\", fontsize=20)\n",
    "    plt.show()"
   ]
  },
  {
   "cell_type": "markdown",
   "metadata": {},
   "source": [
    "# ***ANIME GENRES***"
   ]
  },
  {
   "cell_type": "code",
   "execution_count": 34,
   "metadata": {},
   "outputs": [
    {
     "name": "stdout",
     "output_type": "stream",
     "text": [
      "Printing the frequency\n"
     ]
    },
    {
     "data": {
      "text/plain": [
       "Animation, Action, Adventure                 138\n",
       "Animation, Comedy, Drama                      49\n",
       "Animation, Action, Comedy                     42\n",
       "Animation, Action, Drama                      34\n",
       "Animation, Adventure, Comedy                  19\n",
       "Animation, Adventure, Drama                   16\n",
       "Animation, Comedy, Romance                    11\n",
       "Animation, Drama, Fantasy                     10\n",
       "Animation, Comedy, Fantasy                     9\n",
       "Animation, Comedy                              7\n",
       "Animation, Action, Crime                       7\n",
       "Animation, Action, Fantasy                     6\n",
       "Animation, Drama, Romance                      5\n",
       "Animation, Action, Romance                     4\n",
       "Animation, Drama, Family                       4\n",
       "Animation, Drama, Sci-Fi                       4\n",
       "Animation, Crime, Drama                        4\n",
       "Animation, Drama, Horror                       3\n",
       "Animation, Drama, Music                        3\n",
       "Animation, Action, Family                      3\n",
       "Animation, Action, Sci-Fi                      3\n",
       "Animation, Action, Horror                      2\n",
       "Animation, Adventure, Fantasy                  2\n",
       "Animation, Adventure, Sci-Fi                   2\n",
       "Animation, Comedy, Crime                       2\n",
       "Animation, Comedy, Family                      2\n",
       "Animation, Drama                               2\n",
       "Action, Animation, Sci-Fi                      1\n",
       "Animation, Fantasy, Sport                      1\n",
       "Animation, Adventure, Family                   1\n",
       "Animation, Action, History                     1\n",
       "Animation, Action, Thriller                    1\n",
       "Animation, Sci-Fi, Action                      1\n",
       "Animation, Drama, Mystery                      1\n",
       "Animation, Comedy, Sport                       1\n",
       "Animation, Sci-Fi                              1\n",
       "Animation, Drama, Sport                        1\n",
       "Animation, Adventure, Horror                   1\n",
       "Action, Sci-Fi, Animation                      1\n",
       "Animation, Horror, Mystery                     1\n",
       "Animation, Short, Adventure                    1\n",
       "Animation, Comedy, Horror                      1\n",
       "Name: gener, dtype: int64"
      ]
     },
     "metadata": {},
     "output_type": "display_data"
    },
    {
     "name": "stdout",
     "output_type": "stream",
     "text": [
      "Printing the most frequent element of series\n"
     ]
    },
    {
     "data": {
      "text/plain": [
       "0    Animation, Action, Adventure            \n",
       "dtype: object"
      ]
     },
     "metadata": {},
     "output_type": "display_data"
    }
   ],
   "source": [
    "series = df.gener\n",
    "# counting the frequency of each element\n",
    "freq = series.value_counts()\n",
    "print(\"Printing the frequency\")\n",
    "display(freq)\n",
    "  \n",
    "# printing the most frequent element\n",
    "print(\"Printing the most frequent element of series\")\n",
    "display(series.mode());"
   ]
  },
  {
   "cell_type": "code",
   "execution_count": 35,
   "metadata": {},
   "outputs": [
    {
     "data": {
      "image/png": "[encoded data removed]",
      "text/plain": [
       "<Figure size 720x720 with 1 Axes>"
      ]
     },
     "metadata": {
      "needs_background": "light"
     },
     "output_type": "display_data"
    }
   ],
   "source": [
    "plt.figure(figsize=(10,10))\n",
    "sns.countplot(data=df,y=\"gener\")\n",
    "plt.show()"
   ]
  },
  {
   "cell_type": "code",
   "execution_count": 36,
   "metadata": {},
   "outputs": [
    {
     "data": {
      "image/png": "[encoded data removed]",
      "text/plain": [
       "<Figure size 1440x1440 with 1 Axes>"
      ]
     },
     "metadata": {
      "needs_background": "light"
     },
     "output_type": "display_data"
    }
   ],
   "source": [
    "plt.figure(figsize=(20,20))\n",
    "sns.barplot(x='rating',y=\"gener\",data=df)\n",
    "plt.show()"
   ]
  },
  {
   "cell_type": "code",
   "execution_count": 37,
   "metadata": {},
   "outputs": [
    {
     "name": "stderr",
     "output_type": "stream",
     "text": [
      "C:\\Users\\abhim\\anaconda3\\lib\\site-packages\\seaborn\\_decorators.py:36: FutureWarning: Pass the following variables as keyword args: x, y. From version 0.12, the only valid positional argument will be `data`, and passing other arguments without an explicit keyword will result in an error or misinterpretation.\n",
      "  warnings.warn(\n"
     ]
    },
    {
     "data": {
      "image/png": "[encoded data removed]",
      "text/plain": [
       "<Figure size 1440x360 with 1 Axes>"
      ]
     },
     "metadata": {
      "needs_background": "light"
     },
     "output_type": "display_data"
    }
   ],
   "source": [
    "from collections import Counter\n",
    "genre=[]\n",
    "for x in df['gener']:\n",
    "    for y in x.split(','):\n",
    "        genre.append(y.strip().lower())\n",
    "\n",
    "count=Counter(genre)\n",
    "count=count.most_common()[:10]\n",
    "x,y=map(list,zip(*count))\n",
    "\n",
    "fig,axs=plt.subplots(figsize=(20,5))\n",
    "g=sns.barplot(y,x)\n",
    "g.set_ylabel(\"Genres\", weight = \"bold\")\n",
    "g.set_title(\"Top Ten Genres\", weight = \"bold\")\n",
    "plt.show()"
   ]
  },
  {
   "cell_type": "markdown",
   "metadata": {},
   "source": [
    "maximum movie released in which year?"
   ]
  },
  {
   "cell_type": "code",
   "execution_count": 38,
   "metadata": {},
   "outputs": [
    {
     "data": {
      "image/png": "[encoded data removed]",
      "text/plain": [
       "<Figure size 1440x360 with 1 Axes>"
      ]
     },
     "metadata": {
      "needs_background": "light"
     },
     "output_type": "display_data"
    }
   ],
   "source": [
    "fig,axs=plt.subplots(figsize=(20,5))\n",
    "g=sns.barplot(x=df['year'].value_counts()[:10].index,y=df['year'].value_counts()[:10])\n",
    "g.set_title(\"Maximum movies released in-\", weight = \"bold\")\n",
    "g.set_xlabel(\"year\")\n",
    "plt.show()"
   ]
  },
  {
   "cell_type": "markdown",
   "metadata": {},
   "source": [
    "# ***Voice Artist***"
   ]
  },
  {
   "cell_type": "markdown",
   "metadata": {},
   "source": [
    "#### ***VOICE ARTIST 1***"
   ]
  },
  {
   "cell_type": "code",
   "execution_count": 39,
   "metadata": {},
   "outputs": [
    {
     "name": "stdout",
     "output_type": "stream",
     "text": [
      "Printing the frequency\n"
     ]
    },
    {
     "data": {
      "text/plain": [
       "Hiroshi Kamiya             7\n",
       "Jun Fukuyama               6\n",
       "Yuri Lowenthal             5\n",
       "Miyu Irino                 4\n",
       "Y�ki Kaji                  4\n",
       "                          ..\n",
       "Eric Vale                  1\n",
       "Janet Varney               1\n",
       "Marlowe Gardiner-Heslin    1\n",
       "Daisuke Ono                1\n",
       "Junko Noda                 1\n",
       "Name: voice_artist1, Length: 301, dtype: int64"
      ]
     },
     "metadata": {},
     "output_type": "display_data"
    },
    {
     "name": "stdout",
     "output_type": "stream",
     "text": [
      "Printing the most frequent element of series\n"
     ]
    },
    {
     "data": {
      "text/plain": [
       "0    Hiroshi Kamiya\n",
       "dtype: object"
      ]
     },
     "metadata": {},
     "output_type": "display_data"
    }
   ],
   "source": [
    "series = df.voice_artist1\n",
    "# counting the frequency of each element\n",
    "freq = series.value_counts()\n",
    "print(\"Printing the frequency\")\n",
    "display(freq)\n",
    "  \n",
    "# printing the most frequent element\n",
    "print(\"Printing the most frequent element of series\")\n",
    "display(series.mode());"
   ]
  },
  {
   "cell_type": "code",
   "execution_count": 40,
   "metadata": {},
   "outputs": [
    {
     "data": {
      "image/png": "[encoded data removed]",
      "text/plain": [
       "<Figure size 1440x360 with 1 Axes>"
      ]
     },
     "metadata": {
      "needs_background": "light"
     },
     "output_type": "display_data"
    }
   ],
   "source": [
    "fig,axs=plt.subplots(figsize=(20,5))\n",
    "g=sns.barplot(x=df['voice_artist1'].value_counts()[:10].index,y=df['voice_artist1'].value_counts()[:10])\n",
    "g.set_title(\"Mostly Occurred voice artist\", weight = \"bold\")\n",
    "g.set_xlabel(\"voice_artist1\", weight = \"bold\")\n",
    "plt.show()"
   ]
  },
  {
   "cell_type": "markdown",
   "metadata": {},
   "source": [
    "#### ***VOICE ARTIST 2***"
   ]
  },
  {
   "cell_type": "code",
   "execution_count": 41,
   "metadata": {},
   "outputs": [
    {
     "name": "stdout",
     "output_type": "stream",
     "text": [
      "Printing the frequency\n"
     ]
    },
    {
     "data": {
      "text/plain": [
       "Y�ko Hikasa           5\n",
       "Mamoru Miyano         4\n",
       "Greg Ayres            4\n",
       "Monica Rial           4\n",
       "Sora Amamiya          4\n",
       "                     ..\n",
       "Aya Suzaki            1\n",
       "Mike Yager            1\n",
       "Mai Fuchigami         1\n",
       "Nobunaga Shimazaki    1\n",
       "Yuki Ono              1\n",
       "Name: voice_artist2, Length: 312, dtype: int64"
      ]
     },
     "metadata": {},
     "output_type": "display_data"
    },
    {
     "name": "stdout",
     "output_type": "stream",
     "text": [
      "Printing the most frequent element of series\n"
     ]
    },
    {
     "data": {
      "text/plain": [
       "0    Y�ko Hikasa\n",
       "dtype: object"
      ]
     },
     "metadata": {},
     "output_type": "display_data"
    }
   ],
   "source": [
    "series = df.voice_artist2\n",
    "# counting the frequency of each element\n",
    "freq = series.value_counts()\n",
    "print(\"Printing the frequency\")\n",
    "display(freq)\n",
    "  \n",
    "# printing the most frequent element\n",
    "print(\"Printing the most frequent element of series\")\n",
    "display(series.mode());"
   ]
  },
  {
   "cell_type": "code",
   "execution_count": 42,
   "metadata": {},
   "outputs": [
    {
     "data": {
      "image/png": "[encoded data removed]",
      "text/plain": [
       "<Figure size 1440x360 with 1 Axes>"
      ]
     },
     "metadata": {
      "needs_background": "light"
     },
     "output_type": "display_data"
    }
   ],
   "source": [
    "fig,axs=plt.subplots(figsize=(20,5))\n",
    "g=sns.barplot(x=df['voice_artist2'].value_counts()[:10].index,y=df['voice_artist2'].value_counts()[:10])\n",
    "g.set_title(\"Mostly Occurred voice artist\", weight = \"bold\")\n",
    "g.set_xlabel(\"voice_artist2\", weight = \"bold\")\n",
    "plt.show()"
   ]
  },
  {
   "cell_type": "markdown",
   "metadata": {},
   "source": [
    "#### ***VOICE ARTIST 3***"
   ]
  },
  {
   "cell_type": "code",
   "execution_count": 43,
   "metadata": {},
   "outputs": [
    {
     "name": "stdout",
     "output_type": "stream",
     "text": [
      "Printing the frequency\n"
     ]
    },
    {
     "data": {
      "text/plain": [
       "Brina Palencia             4\n",
       "Houko Kuwashima            4\n",
       "Beau Billingslea           4\n",
       "Kana Hanazawa              4\n",
       "Christopher Bevins         3\n",
       "                          ..\n",
       "Christopher Corey Smith    1\n",
       "Unsh� Ishizuka             1\n",
       "Joe Cappelletti            1\n",
       "Sandy Fox                  1\n",
       "Yuki Ono                   1\n",
       "Name: voice_artist3, Length: 330, dtype: int64"
      ]
     },
     "metadata": {},
     "output_type": "display_data"
    },
    {
     "name": "stdout",
     "output_type": "stream",
     "text": [
      "Printing the most frequent element of series\n"
     ]
    },
    {
     "data": {
      "text/plain": [
       "0    Beau Billingslea\n",
       "1      Brina Palencia\n",
       "2     Houko Kuwashima\n",
       "3       Kana Hanazawa\n",
       "dtype: object"
      ]
     },
     "metadata": {},
     "output_type": "display_data"
    }
   ],
   "source": [
    "series = df.voice_artist3\n",
    "# counting the frequency of each element\n",
    "freq = series.value_counts()\n",
    "print(\"Printing the frequency\")\n",
    "display(freq)\n",
    "  \n",
    "# printing the most frequent element\n",
    "print(\"Printing the most frequent element of series\")\n",
    "display(series.mode())"
   ]
  },
  {
   "cell_type": "code",
   "execution_count": 44,
   "metadata": {},
   "outputs": [
    {
     "data": {
      "image/png": "[encoded data removed]",
      "text/plain": [
       "<Figure size 1440x360 with 1 Axes>"
      ]
     },
     "metadata": {
      "needs_background": "light"
     },
     "output_type": "display_data"
    }
   ],
   "source": [
    "fig,axs=plt.subplots(figsize=(20,5))\n",
    "g=sns.barplot(x=df['voice_artist3'].value_counts()[:10].index,y=df['voice_artist3'].value_counts()[:10])\n",
    "g.set_title(\"Mostly Occurred voice artist\", weight = \"bold\")\n",
    "g.set_xlabel(\"voice_artist2\", weight = \"bold\")\n",
    "plt.show()"
   ]
  },
  {
   "cell_type": "markdown",
   "metadata": {},
   "source": [
    "#### ***VOICE ARTIST 4***"
   ]
  },
  {
   "cell_type": "code",
   "execution_count": 45,
   "metadata": {},
   "outputs": [
    {
     "name": "stdout",
     "output_type": "stream",
     "text": [
      "Printing the frequency\n"
     ]
    },
    {
     "data": {
      "text/plain": [
       "Luci Christian        5\n",
       "Aya Hisakawa          5\n",
       "Steve Blum            5\n",
       "Cherami Leigh         5\n",
       "Ai Kayano             5\n",
       "                     ..\n",
       "Takayuki Sug�         1\n",
       "Laura Bailey          1\n",
       "Brittney Karbowski    1\n",
       "Kate Bristol          1\n",
       "Yuki Ono              1\n",
       "Name: voice_artist4, Length: 324, dtype: int64"
      ]
     },
     "metadata": {},
     "output_type": "display_data"
    },
    {
     "name": "stdout",
     "output_type": "stream",
     "text": [
      "Printing the most frequent element of series\n"
     ]
    },
    {
     "data": {
      "text/plain": [
       "0         Ai Kayano\n",
       "1      Aya Hisakawa\n",
       "2     Cherami Leigh\n",
       "3    Luci Christian\n",
       "4        Steve Blum\n",
       "dtype: object"
      ]
     },
     "metadata": {},
     "output_type": "display_data"
    }
   ],
   "source": [
    "series = df.voice_artist4\n",
    "# counting the frequency of each element\n",
    "freq = series.value_counts()\n",
    "print(\"Printing the frequency\")\n",
    "display(freq)\n",
    "  \n",
    "# printing the most frequent element\n",
    "print(\"Printing the most frequent element of series\")\n",
    "display(series.mode())"
   ]
  },
  {
   "cell_type": "code",
   "execution_count": 46,
   "metadata": {},
   "outputs": [
    {
     "data": {
      "image/png": "[encoded data removed]",
      "text/plain": [
       "<Figure size 1440x360 with 1 Axes>"
      ]
     },
     "metadata": {
      "needs_background": "light"
     },
     "output_type": "display_data"
    }
   ],
   "source": [
    "fig,axs=plt.subplots(figsize=(20,5))\n",
    "g=sns.barplot(x=df['voice_artist4'].value_counts()[:10].index,y=df['voice_artist4'].value_counts()[:10])\n",
    "g.set_title(\"Mostly Occurred voice artist\", weight = \"bold\")\n",
    "g.set_xlabel(\"voice_artist4\", weight = \"bold\")\n",
    "plt.show()"
   ]
  },
  {
   "cell_type": "markdown",
   "metadata": {},
   "source": [
    "# CONCLUSION:-"
   ]
  },
  {
   "cell_type": "markdown",
   "metadata": {},
   "source": [
    "Here we have analyzed the data of anime and by analyzing the data we have concluded the regarding points.<br>\n",
    "1. we have seen average raging ,top 5 high rated as well as low rated anime.\n",
    "2. we have seen which anime have the longest and smallest runtime.\n",
    "4. we have observe the correlations.\n",
    "5. we have seen the certificate provided to the anime.\n",
    "6. appearence of voice artists.\n",
    "7. we have seen gener of the anime which are repeatedly created.\n",
    "8. BY OBSERVING THE CERTIFICATE DATA ANIME ARE MADE FOR EVERY AGE GROUP BUT MOST OF THE CONTENT ARE MADE FOR THE AGE GROUP OF 16 AND 16+. MOST OF THE ANIME ARE MADE IN THE GENRES OF ACTION AND ADVENTURE\n",
    "From above points we have analyzed and visualized that the anime are mostly liked and watched by all age groups. Every year it is mostly trending.\n"
   ]
  },
  {
   "cell_type": "code",
   "execution_count": null,
   "metadata": {},
   "outputs": [],
   "source": []
  }
 ],
 "metadata": {
  "kernelspec": {
   "display_name": "Python 3",
   "language": "python",
   "name": "python3"
  },
  "language_info": {
   "codemirror_mode": {
    "name": "ipython",
    "version": 3
   },
   "file_extension": ".py",
   "mimetype": "text/x-python",
   "name": "python",
   "nbconvert_exporter": "python",
   "pygments_lexer": "ipython3",
   "version": "3.8.8"
  }
 },
 "nbformat": 4,
 "nbformat_minor": 4
}
