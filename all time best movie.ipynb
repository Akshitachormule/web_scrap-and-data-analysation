{
 "cells": [
  {
   "cell_type": "code",
   "execution_count": null,
   "metadata": {},
   "outputs": [],
   "source": [
    "import requests\n",
    "\n",
    "import pandas as pd\n",
    "\n",
    "from bs4 import BeautifulSoup \n",
    "\n",
    "import numpy as np\n",
    "\n",
    "from time import sleep\n",
    "\n",
    "from random import randint\n",
    "\n",
    "title = []\n",
    "year = []\n",
    "rating = []\n",
    "certificate=[]\n",
    "votes=[]\n",
    "runtime=[]\n",
    "metascore=[]\n",
    "gener=[]\n",
    "director=[]\n",
    "star1=[]\n",
    "star2=[]\n",
    "star3=[]\n",
    "star4=[]\n",
    "gross=[]\n",
    "\n",
    "pages=np.arange(1,349,50)\n",
    "\n",
    "for page in pages:\n",
    "    page= requests.get(\"https://www.imdb.com/search/title/?title_type=feature&num_votes=10000,&languages=hi&sort=user_rating,desc&start=\"+ str(page)+\"&ref_=adv_nxt\")\n",
    "    soup=BeautifulSoup(page.text,\"html.parser\")\n",
    "    movies=soup.find_all('div',{'class':\"lister-item-content\"})\n",
    "    sleep(randint(2,8))\n",
    "    for movie in movies:\n",
    "        title.append(movie.h3.a.text)\n",
    "        year.append(movie.find('span',{'class':'lister-item-year text-muted unbold'}).text[1:5])\n",
    "        rating.append(movie.find('div',{'class':'inline-block ratings-imdb-rating'}).text[2:5] if movie.find('div',{'class':'inline-block ratings-imdb-rating'}) else \"  \")\n",
    "\n",
    "\n",
    "\n",
    "        gener.append(movie.find('span',{'class':'genre'}).text[1:])\n",
    "\n",
    "\n",
    "\n",
    "        runtime.append(movie.p.find('span',{'class':'runtime'}).text if movie.p.find('span',{'class':'runtime'}) else ' Na ')\n",
    "\n",
    "\n",
    "        certificate.append(movie.p.find('span',{'class':'certificate'}).text if movie.p.find('span',{'class':'certificate'}) else 'NA ')\n",
    "\n",
    "\n",
    "\n",
    "        metascore.append(movie.find('div',{'class':'inline-block ratings-metascore'}).text[1:3] if movie.find('div',{'class':'inline-block ratings-metascore'}) else \"na\")\n",
    "\n",
    "\n",
    "        votes.append(movie.find('span',{'name':'nv'}).text)\n",
    "\n",
    "\n",
    "        director.append(movie.find('p',class_='').find_all('a')[0].text if movie.find('p',class_='').find_all('a')[0] else ' NA ')\n",
    "\n",
    "        star1.append(movie.find('p',class_='').find_all('a')[1].text)\n",
    "\n",
    "        star2.append(movie.find('p',class_='').find_all('a')[2].text)\n",
    "\n",
    "        star3.append(movie.find('p',class_='').find_all('a')[3].text)\n",
    "\n",
    "        star4.append(movie.find('p',class_='').find_all('a')[4].text)\n",
    "        nv= movie.find_all('span', attrs = {'name':'nv'})\n",
    "        grosses= nv[1].text if len(nv) > 1 else '0'\n",
    "        gross.append(grosses)\n",
    "\n",
    "\n"
   ]
  },
  {
   "cell_type": "code",
   "execution_count": null,
   "metadata": {},
   "outputs": [],
   "source": [
    "data=list(zip(title,year,rating,metascore,certificate,votes,runtime,gener,director,star1,star2,star3,star4,gross))\n",
    "data"
   ]
  },
  {
   "cell_type": "code",
   "execution_count": null,
   "metadata": {},
   "outputs": [],
   "source": [
    "df=pd.DataFrame(data,columns=[\"title\",\"year\",\"rating\",\"metascore\",\"certificate\",\"votes\",\"runtime\",\"gener\",\"director\",\"star1\",\"star2\",\"star3\",\"star4\",\"gross\"])\n",
    "df"
   ]
  },
  {
   "cell_type": "code",
   "execution_count": null,
   "metadata": {},
   "outputs": [],
   "source": [
    "df.to_csv(\"all timebest movie - IMDb.csv\")"
   ]
  },
  {
   "cell_type": "code",
   "execution_count": null,
   "metadata": {},
   "outputs": [],
   "source": []
  }
 ],
 "metadata": {
  "kernelspec": {
   "display_name": "Python 3",
   "language": "python",
   "name": "python3"
  },
  "language_info": {
   "codemirror_mode": {
    "name": "ipython",
    "version": 3
   },
   "file_extension": ".py",
   "mimetype": "text/x-python",
   "name": "python",
   "nbconvert_exporter": "python",
   "pygments_lexer": "ipython3",
   "version": "3.8.5"
  }
 },
 "nbformat": 4,
 "nbformat_minor": 4
}
